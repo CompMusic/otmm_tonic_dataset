{
 "cells": [
  {
   "cell_type": "code",
   "execution_count": 1,
   "metadata": {
    "collapsed": false
   },
   "outputs": [],
   "source": [
    "import json\n",
    "import pandas\n",
    "import numpy as np\n",
    "import copy\n",
    "import os\n",
    "#from __future__ import unicode_literals\n",
    "from fileoperations.fileoperations import get_filenames_in_dir\n",
    "from makammusicbrainz.audiometadata import AudioMetadata\n"
   ]
  },
  {
   "cell_type": "code",
   "execution_count": 2,
   "metadata": {
    "collapsed": true
   },
   "outputs": [],
   "source": [
    "tonic_dict = {}\n",
    "item_template = {'mbid': '', 'annotations': [], 'verified':False}\n",
    "anno_template = {'source': '', 'value': None, 'observations': '', 'octave_wrapped': True}\n",
    "mb_str = 'http://musicbrainz.org/recording/'\n",
    "audiometacrawler = AudioMetadata()\n"
   ]
  },
  {
   "cell_type": "code",
   "execution_count": 3,
   "metadata": {
    "collapsed": true
   },
   "outputs": [],
   "source": [
    "# get annotations from senturk score informed tonic identification\n",
    "senturk_data = pandas.read_csv('./senturk2013karar_ismir/tonic_annotations.csv', sep=',')\n",
    "for ss in senturk_data.iterrows():\n",
    "    if not ss[1]['MBID'] in tonic_dict.keys():\n",
    "        # add the recording to the dict\n",
    "        tonic_dict[ss[1]['MBID']] = copy.deepcopy(item_template)\n",
    "        tonic_dict[ss[1]['MBID']]['mbid'] = mb_str + ss[1]['MBID']\n",
    "        tonic_dict[ss[1]['MBID']]['verified'] = False\n",
    "    else:\n",
    "        raise RuntimeError('should not happen')\n",
    "           \n",
    "    # add the tonic value\n",
    "    tonic_dict[ss[1]['MBID']]['annotations'].append(copy.deepcopy(anno_template))\n",
    "    tonic_dict[ss[1]['MBID']]['annotations'][-1]['source'] = 'https://github.com/MTG/otmm_tonic_dataset/blob/7f28c1a3261b9146042155ee5e0f9e644d9ebcfa/senturk2013karar_ismir/tonic_annotations.csv'\n",
    "    tonic_dict[ss[1]['MBID']]['annotations'][-1]['value'] = ss[1]['Tonic_Annotation_(Hz)']\n",
    "    tonic_dict[ss[1]['MBID']]['annotations'][-1]['octave_wrapped'] = True"
   ]
  },
  {
   "cell_type": "raw",
   "metadata": {},
   "source": [
    "# get annotations from TD1 in atli last note fma\n",
    "# This code is commented because TD1 is a subset of TD2\n",
    "atli_data1 = pandas.read_csv('./atli2015tonic_fma/TD1.csv', sep=',')\n",
    "for ad1 in atli_data1.iterrows():\n",
    "    if not ad1[1]['MBID'] in tonic_dict.keys():\n",
    "        # add the recording to the dict\n",
    "        tonic_dict[ad1[1]['MBID']] = copy.deepcopy(item_template)\n",
    "        tonic_dict[ad1[1]['MBID']]['mbid'] = mb_str + ad1[1]['MBID']\n",
    "        tonic_dict[ad1[1]['MBID']]['verified'] = False\n",
    "    else:\n",
    "        pass\n",
    "    # if there is a identical duplicate in the tonic annotations skip\n",
    "    if (tonic_dict[ad1[1]['MBID']]['annotations'] and \n",
    "        'TD' in tonic_dict[ad1[1]['MBID']]['annotations'][-1]['source'] and \n",
    "        tonic_dict[ad1[1]['MBID']]['annotations'][-1]['value'] != ad1[1]['Tonic_Annotation_(Hz)']):\n",
    "        \n",
    "        print ad1[1]['MBID'] + ' ' + str(tonic_dict[ad1[1]['MBID']]['annotations'][-1]['value'])  + ' ' + str(ad1[1]['Tonic_Annotation_(Hz)'])\n",
    "    \n",
    "    # add the tonic value\n",
    "    tonic_dict[ad1[1]['MBID']]['annotations'].append(copy.deepcopy(anno_template))\n",
    "    tonic_dict[ad1[1]['MBID']]['annotations'][-1]['source'] = 'https://github.com/MTG/otmm_tonic_dataset/blob/7f28c1a3261b9146042155ee5e0f9e644d9ebcfa/atli2015tonic_fma/TD1.csv'\n",
    "\n",
    "    tonic_dict[ad1[1]['MBID']]['annotations'][-1]['value'] = ad1[1]['Tonic_Annotation_(Hz)']\n",
    "    tonic_dict[ad[1]['MBID']]['annotations'][-1]['octave_wrapped'] = True"
   ]
  },
  {
   "cell_type": "code",
   "execution_count": 4,
   "metadata": {
    "collapsed": false
   },
   "outputs": [
    {
     "name": "stdout",
     "output_type": "stream",
     "text": [
      "a527a6bf-3ddd-4622-abb8-f93d80848e6c 496 247\n",
      "553ea4d2-9195-440f-9c42-01655edef0a8 220 221\n"
     ]
    }
   ],
   "source": [
    "# get annotations from TD12in atli last note fma\n",
    "atli_data2 = pandas.read_csv('./atli2015tonic_fma/TD2.csv', sep=',')\n",
    "for ad2 in atli_data2.iterrows():\n",
    "    if not ad2[1]['MBID'] in tonic_dict.keys():\n",
    "        # add the recording to the dict\n",
    "        tonic_dict[ad2[1]['MBID']] = copy.deepcopy(item_template)\n",
    "        tonic_dict[ad2[1]['MBID']]['mbid'] = mb_str + ad2[1]['MBID']\n",
    "        tonic_dict[ad2[1]['MBID']]['verified'] = False\n",
    "    else:\n",
    "        pass\n",
    "        \n",
    "    if (tonic_dict[ad2[1]['MBID']]['annotations'] and \n",
    "        'TD2' in tonic_dict[ad2[1]['MBID']]['annotations'][-1]['source'] and \n",
    "        tonic_dict[ad2[1]['MBID']]['annotations'][-1]['value'] != ad2[1]['Tonic_Annotation_(Hz)']):\n",
    "        \n",
    "        print ad2[1]['MBID'] + ' ' + str(tonic_dict[ad2[1]['MBID']]['annotations'][-1]['value'])  + ' ' + str(ad2[1]['Tonic_Annotation_(Hz)'])\n",
    "    \n",
    "    # add the tonic value\n",
    "    tonic_dict[ad2[1]['MBID']]['annotations'].append(copy.deepcopy(anno_template))\n",
    "    tonic_dict[ad2[1]['MBID']]['annotations'][-1]['source'] = 'https://github.com/MTG/otmm_tonic_dataset/blob/7f28c1a3261b9146042155ee5e0f9e644d9ebcfa/atli2015tonic_fma/TD2.csv'\n",
    "\n",
    "    tonic_dict[ad2[1]['MBID']]['annotations'][-1]['value'] = ad2[1]['Tonic_Annotation_(Hz)']\n",
    "    tonic_dict[ad2[1]['MBID']]['annotations'][-1]['octave_wrapped'] = True       "
   ]
  },
  {
   "cell_type": "code",
   "execution_count": 5,
   "metadata": {
    "collapsed": false
   },
   "outputs": [
    {
     "name": "stdout",
     "output_type": "stream",
     "text": [
      "deadd528-5faf-4377-8c68-ea7145112c34\n"
     ]
    }
   ],
   "source": [
    "# get annotations from karakurt makam recognition\n",
    "karakurt_data = json.load(open('../otmm_makam_recognition_dataset/annotations.json'))\n",
    "\n",
    "for kd in karakurt_data:\n",
    "    mbid = os.path.split(kd['mbid'])[-1]\n",
    "    \n",
    "    if not mbid in tonic_dict.keys():\n",
    "        # add the recording to the dict\n",
    "        tonic_dict[mbid] = copy.deepcopy(item_template)\n",
    "        tonic_dict[mbid]['mbid'] = mb_str + mbid\n",
    "        tonic_dict[mbid]['verified'] = kd['verified']\n",
    "    elif not tonic_dict[mbid]['verified']:\n",
    "        tonic_dict[mbid]['verified'] = kd['verified']\n",
    "        \n",
    "    # add the tonic value\n",
    "    tonic_dict[mbid]['annotations'].append(copy.deepcopy(anno_template))\n",
    "    tonic_dict[mbid]['annotations'][-1]['source'] = 'https://github.com/MTG/otmm_makam_recognition_dataset/blob/216a7b30632032b2a8c2692d5f5895bedbc743e0/annotations.json'\n",
    "    tonic_dict[mbid]['annotations'][-1]['value'] = kd['tonic']\n",
    "    tonic_dict[mbid]['annotations'][-1]['observations'] = kd['observations']\n",
    "    tonic_dict[mbid]['annotations'][-1]['octave_wrapped'] = True\n",
    "\n",
    "    if kd['observations']:\n",
    "        print mbid   \n",
    "      "
   ]
  },
  {
   "cell_type": "code",
   "execution_count": 6,
   "metadata": {
    "collapsed": false
   },
   "outputs": [
    {
     "name": "stdout",
     "output_type": "stream",
     "text": [
      "(u'5b734939-3f33-4f8d-8e83-1c29879dffb5', {u'OctaveWrapped': 1, u'Citation': u'Salamon, J., & Gomez, E. (2012). Melody extraction from polyphonic music signals using pitch contour characteristics. IEEE Transactions on Audio, Speech, and Language Processing, 20(6), 1759-1770.', u'Value': 222.3934, u'Unit': u'Hz', u'Method': u'Picked the karar manually from the prominent pitch of the audio recording with 1 cent precision.'})\n",
      "(u'3ee9b4c6-a411-4e63-956f-531bf6a6f40f', {u'OctaveWrapped': 0, u'Citation': u'atli2015fma', u'Value': 340, u'Unit': u'Hz', u'Method': u'Last note detection'})\n",
      "(u'18443478-1fa6-4668-a5c2-b4ffa5988ddc', {u'OctaveWrapped': 1, u'Citation': u'Salamon, J., & Gomez, E. (2012). Melody extraction from polyphonic music signals using pitch contour characteristics. IEEE Transactions on Audio, Speech, and Language Processing, 20(6), 1759-1770.', u'Value': 293.7308, u'Unit': u'Hz', u'Method': u'Picked the karar manually from the prominent pitch of the audio recording with 1 cent precision.'})\n",
      "(u'163dfec1-0ee0-454a-9438-620011824a43', {u'OctaveWrapped': 0, u'Citation': u'atli2015fma', u'Value': 225, u'Unit': u'Hz', u'Method': u'Last note detection'})\n",
      "(u'4bcb78bf-1ac1-4f90-b573-91262f3f06a1', {u'OctaveWrapped': 1, u'Citation': u'Salamon, J., & Gomez, E. (2012). Melody extraction from polyphonic music signals using pitch contour characteristics. IEEE Transactions on Audio, Speech, and Language Processing, 20(6), 1759-1770.', u'Value': 293.4276, u'Unit': u'Hz', u'Method': u'Picked the karar manually from the prominent pitch of the audio recording with 1 cent precision.'})\n",
      "(u'da4a1bec-368a-4f7d-ae5a-679553698085', {u'OctaveWrapped': 0, u'Citation': u'atli2015fma', u'Value': 165, u'Unit': u'Hz', u'Method': u'Last note detection'})\n",
      "('../otmm_composition_identification_dataset/audio/09_Bestenigar_Pesrev_(Sah_Ney)/tonic.json', [u'scoreInformed'])\n",
      "('../otmm_composition_identification_dataset/audio/1-11_Devr-i_Kebir_Pesrev/tonic.json', [u'scoreInformed'])\n",
      "(u'fa069c5e-78bc-4f56-ba82-c976315e6668', {u'OctaveWrapped': 0, u'Citation': u'atli2015fma', u'Value': 350, u'Unit': u'Hz', u'Method': u'Last note detection'})\n",
      "(u'a7a9c147-695d-423a-a0ad-96cd373b4ab5', {u'OctaveWrapped': 0, u'Citation': u'atli2015fma', u'Value': 280, u'Unit': u'Hz', u'Method': u'Last note detection'})\n",
      "(u'd622b79a-a6f8-40f9-b002-3b68890e4e25', {u'OctaveWrapped': 0, u'Citation': u'atli2015fma', u'Value': 174, u'Unit': u'Hz', u'Method': u'Last note detection'})\n",
      "('../otmm_composition_identification_dataset/audio/24_Evc-Ara_Saz_Semai_(Mansur_Ney)/tonic.json', [u'scoreInformed'])\n",
      "(u'a0cac3d2-2c80-4710-985e-0c8ba73a4c26', {u'OctaveWrapped': 0, u'Citation': u'atli2015fma', u'Value': 385, u'Unit': u'Hz', u'Method': u'Last note detection'})\n"
     ]
    }
   ],
   "source": [
    "# get annotations from senturk composition identification\n",
    "tonic_files = get_filenames_in_dir('../otmm_composition_identification_dataset/audio/', keyword='tonic.json')[0]\n",
    "for tf in tonic_files:\n",
    "    try:\n",
    "        mfile = os.path.join(os.path.split(tf)[0], u'metadata.json')\n",
    "        mbid = json.load(open(mfile))['mbid']\n",
    "\n",
    "        st = json.load(open(tf))['annotation']\n",
    "        if not mbid in tonic_dict.keys():\n",
    "            # add the recording to the dict\n",
    "            tonic_dict[mbid] = copy.deepcopy(item_template)\n",
    "            tonic_dict[mbid]['mbid'] = mb_str + mbid\n",
    "            tonic_dict[mbid]['verified'] = False\n",
    "\n",
    "        add_bool = True\n",
    "        if st['Citation'] == u'atli2015fma':  # tonic from atli 2015\n",
    "            for anno in tonic_dict[mbid]['annotations']:\n",
    "                if 'TD' in anno['source'] and np.isclose(anno['value'], st['Value']):\n",
    "                    add_bool = False\n",
    "            if add_bool:\n",
    "                print (mbid, st)\n",
    "                \n",
    "        elif 'Salamon' in st['Citation']:  # tonic from senturk score-informed tonic\n",
    "            for anno in tonic_dict[mbid]['annotations']:\n",
    "                if 'senturk2013karar_ismir' in anno['source'] and np.isclose(anno['value'], st['Value']):\n",
    "                    add_bool = False\n",
    "            if add_bool:\n",
    "                print (mbid, st)\n",
    "                \n",
    "        if add_bool:\n",
    "            tonic_dict[mbid]['annotations'].append(copy.deepcopy(anno_template))\n",
    "\n",
    "            tonic_dict[mbid]['annotations'][-1]['source'] = 'https://github.com/MTG/otmm_composition_identification_dataset/tree/smc2016'\n",
    "            tonic_dict[mbid]['annotations'][-1]['value'] = round(st['Value'], 1)\n",
    "            if st['OctaveWrapped']:\n",
    "                tonic_dict[mbid]['annotations'][-1]['octave_wrapped'] = True\n",
    "            else:\n",
    "                tonic_dict[mbid]['annotations'][-1]['octave_wrapped'] = False\n",
    "    except KeyError:\n",
    "        print (tf, json.load(open(tf)).keys())"
   ]
  },
  {
   "cell_type": "code",
   "execution_count": 11,
   "metadata": {
    "collapsed": true
   },
   "outputs": [],
   "source": [
    "# save \n",
    "json.dump(tonic_dict, open('annotations.json', 'w'), indent=2)"
   ]
  },
  {
   "cell_type": "code",
   "execution_count": 10,
   "metadata": {
    "collapsed": false
   },
   "outputs": [
    {
     "data": {
      "text/plain": [
       "'7e8d6990-0fdd-4ff8-b468-931698bffc75'"
      ]
     },
     "execution_count": 10,
     "metadata": {},
     "output_type": "execute_result"
    }
   ],
   "source": [
    "tonic_dict.keys()[0]"
   ]
  }
 ],
 "metadata": {
  "kernelspec": {
   "display_name": "Python 2",
   "language": "python",
   "name": "python2"
  },
  "language_info": {
   "codemirror_mode": {
    "name": "ipython",
    "version": 2
   },
   "file_extension": ".py",
   "mimetype": "text/x-python",
   "name": "python",
   "nbconvert_exporter": "python",
   "pygments_lexer": "ipython2",
   "version": "2.7.10"
  }
 },
 "nbformat": 4,
 "nbformat_minor": 0
}
