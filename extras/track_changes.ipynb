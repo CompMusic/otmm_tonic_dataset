{
 "cells": [
  {
   "cell_type": "markdown",
   "metadata": {},
   "source": [
    "In this notebook, we track the changes in annotations between the _master_ and [v3.0.0-alfa](https://github.com/MTG/otmm_tonic_dataset/tree/v3.0.0-alfa). In _v3.0.0-alfa_ is the snapshot of the dataset when all the tonic test datasets had been merged but the annotation verification had not started yet.\n"
   ]
  },
  {
   "cell_type": "code",
   "execution_count": 7,
   "metadata": {
    "collapsed": false
   },
   "outputs": [
    {
     "ename": "SyntaxError",
     "evalue": "invalid syntax (<ipython-input-7-3c8fd8e990de>, line 3)",
     "output_type": "error",
     "traceback": [
      "\u001b[0;36m  File \u001b[0;32m\"<ipython-input-7-3c8fd8e990de>\"\u001b[0;36m, line \u001b[0;32m3\u001b[0m\n\u001b[0;31m    import ..unittests\u001b[0m\n\u001b[0m           ^\u001b[0m\n\u001b[0;31mSyntaxError\u001b[0m\u001b[0;31m:\u001b[0m invalid syntax\n"
     ]
    }
   ],
   "source": [
    "import urllib2\n",
    "import json\n",
    "from unittests.validate_annotations import test_annotations"
   ]
  },
  {
   "cell_type": "code",
   "execution_count": 3,
   "metadata": {
    "collapsed": false
   },
   "outputs": [],
   "source": [
    "# load master data\n",
    "anno_master = json.load(open('../annotations.json'))\n",
    "\n",
    "# load v3.0.0-alfa data\n",
    "anno_alfa_url = 'https://raw.githubusercontent.com/MTG/otmm_tonic_dataset/v3.0.0-alfa/annotations.json'\n",
    "response = urllib2.urlopen(anno_alfa_url)\n",
    "anno_alfa = json.load(response)\n"
   ]
  },
  {
   "cell_type": "markdown",
   "metadata": {},
   "source": [
    "First we will run the [automatic validation tests](https://github.com/MTG/otmm_tonic_dataset/blob/master/unittests/validate_annotations.py#L11) on _v3.0.0-alfa_ to find how many recordings had validation errors before verification"
   ]
  },
  {
   "cell_type": "code",
   "execution_count": 6,
   "metadata": {
    "collapsed": false
   },
   "outputs": [
    {
     "data": {
      "text/plain": [
       "[{u'citation': u'\\u015eent\\xfcrk, S., Gulati, S., and Serra, X. (2013). Score Informed Tonic Identification for Makam Music of Turkey. In Proceedings of 14th International Society for Music Information Retrieval Conference (ISMIR 2013), pages 175\\u2013180, Curitiba, Brazil.',\n",
       "  u'observations': u'',\n",
       "  u'octave_wrapped': True,\n",
       "  u'source': u'https://github.com/MTG/otmm_tonic_dataset/blob/7f28c1a3261b9146042155ee5e0f9e644d9ebcfa/senturk2013karar_ismir/tonic_annotations.csv',\n",
       "  u'value': 383.0},\n",
       " {u'citation': u'Atl\\u0131, H. S., Bozkurt, B., \\u015eent\\xfcrk, S. (2015). A Method for Tonic Frequency Identification of Turkish Makam Music Recordings. In Proceedings of 5th International Workshop on Folk Music Analysis (FMA 2015), pages 119\\u2013122, Paris, France.',\n",
       "  u'observations': u'',\n",
       "  u'octave_wrapped': True,\n",
       "  u'source': u'https://github.com/MTG/otmm_tonic_dataset/blob/7f28c1a3261b9146042155ee5e0f9e644d9ebcfa/atli2015tonic_fma/TD2.csv',\n",
       "  u'value': 383},\n",
       " {u'citation': u'Karakurt, A., \\u015eent\\xfcrk S., & Serra X. (2016). MORTY: A Toolbox for Mode Recognition and Tonic Identification. In Proceedings of 3rd International Digital Libraries for Musicology Workshop (DLfM 2016). pages 9-16, New York, NY, USA',\n",
       "  u'observations': u'',\n",
       "  u'octave_wrapped': True,\n",
       "  u'source': u'https://github.com/MTG/otmm_makam_recognition_dataset/blob/216a7b30632032b2a8c2692d5f5895bedbc743e0/annotations.json',\n",
       "  u'value': 386.4}]"
      ]
     },
     "execution_count": 6,
     "metadata": {},
     "output_type": "execute_result"
    }
   ],
   "source": [
    "%run "
   ]
  }
 ],
 "metadata": {
  "kernelspec": {
   "display_name": "Python 2",
   "language": "python",
   "name": "python2"
  },
  "language_info": {
   "codemirror_mode": {
    "name": "ipython",
    "version": 2
   },
   "file_extension": ".py",
   "mimetype": "text/x-python",
   "name": "python",
   "nbconvert_exporter": "python",
   "pygments_lexer": "ipython2",
   "version": "2.7.11+"
  }
 },
 "nbformat": 4,
 "nbformat_minor": 2
}
