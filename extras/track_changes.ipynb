{
 "cells": [
  {
   "cell_type": "markdown",
   "metadata": {},
   "source": [
    "In this notebook, we track the changes in annotations between the _master_ and [v3.0.0-alfa](https://github.com/MTG/otmm_tonic_dataset/tree/v3.0.0-alfa). In _v3.0.0-alfa_ is the snapshot of the dataset when all the tonic test datasets had been merged but the annotation verification had not started yet.\n"
   ]
  },
  {
   "cell_type": "code",
   "execution_count": 1,
   "metadata": {
    "collapsed": false
   },
   "outputs": [],
   "source": [
    "import urllib2\n",
    "import json\n",
    "import numpy as np\n",
    "from unittests.validate_annotations import test_annotations"
   ]
  },
  {
   "cell_type": "code",
   "execution_count": 2,
   "metadata": {
    "collapsed": false
   },
   "outputs": [],
   "source": [
    "# load master data\n",
    "anno_master = json.load(open('../annotations.json'))\n",
    "\n",
    "# load v3.0.0-alfa data\n",
    "anno_alfa_url = 'https://raw.githubusercontent.com/MTG/otmm_tonic_dataset/v3.0.0-alfa/annotations.json'\n",
    "response = urllib2.urlopen(anno_alfa_url)\n",
    "anno_alfa = json.load(response)\n"
   ]
  },
  {
   "cell_type": "markdown",
   "metadata": {},
   "source": [
    "First, we run the [automatic validation tests](https://github.com/MTG/otmm_tonic_dataset/blob/master/unittests/validate_annotations.py#L11) on _v3.0.0-alfa_ to find how many recordings had annotation inconsistencies before verification."
   ]
  },
  {
   "cell_type": "code",
   "execution_count": 3,
   "metadata": {
    "collapsed": false
   },
   "outputs": [
    {
     "name": "stderr",
     "output_type": "stream",
     "text": [
      "INFO:root:- Validating 2007 recordings\n",
      "ERROR:root:> Mismatch in http://dunya.compmusic.upf.edu/makam/recording/5a44e069-3b0e-4a28-b515-b7b257b6373a\n",
      "ERROR:root:> Mismatch in http://dunya.compmusic.upf.edu/makam/recording/428a80a9-d545-4ad3-9324-237368bcf027\n",
      "ERROR:root:> Mismatch in http://dunya.compmusic.upf.edu/makam/recording/5f11df16-816d-4253-ae6d-04f6ed0ed309\n",
      "ERROR:root:> Mismatch in http://dunya.compmusic.upf.edu/makam/recording/52fb0080-4c80-44c0-858a-46e4a4bded0a\n",
      "ERROR:root:> Mismatch in http://dunya.compmusic.upf.edu/makam/recording/d622b79a-a6f8-40f9-b002-3b68890e4e25\n",
      "ERROR:root:> Mismatch in http://dunya.compmusic.upf.edu/makam/recording/b0ff86ee-25ca-415e-b377-84038efe43a9\n",
      "ERROR:root:> Mismatch in http://dunya.compmusic.upf.edu/makam/recording/9c9d3440-011b-4357-9eb7-303a8aeb5e8f\n",
      "ERROR:root:> Mismatch in http://dunya.compmusic.upf.edu/makam/recording/d2ebf684-8b56-418c-866a-0fa6b8acda1e\n",
      "ERROR:root:> Mismatch in http://dunya.compmusic.upf.edu/makam/recording/632656b7-6a0f-476a-80cd-ced396bdb57c\n",
      "ERROR:root:> Mismatch in http://dunya.compmusic.upf.edu/makam/recording/09053a05-182d-4335-8618-34365c9b2ad1\n",
      "ERROR:root:> Mismatch in http://dunya.compmusic.upf.edu/makam/recording/132cb194-c083-4002-9cc9-720b8cbfc61c\n",
      "ERROR:root:> Mismatch in http://dunya.compmusic.upf.edu/makam/recording/163dfec1-0ee0-454a-9438-620011824a43\n",
      "ERROR:root:> Mismatch in http://dunya.compmusic.upf.edu/makam/recording/e54a1762-9464-45c6-b399-0fb3ec6aff67\n",
      "ERROR:root:> Mismatch in http://dunya.compmusic.upf.edu/makam/recording/f79d0e6b-b5e1-4ad4-9ef0-81be05cce9a6\n",
      "ERROR:root:> Mismatch in http://dunya.compmusic.upf.edu/makam/recording/430eb7d0-5326-4883-ad04-a6c8f2383ee9\n",
      "ERROR:root:> Mismatch in http://dunya.compmusic.upf.edu/makam/recording/a0cac3d2-2c80-4710-985e-0c8ba73a4c26\n",
      "ERROR:root:> Mismatch in http://dunya.compmusic.upf.edu/makam/recording/43745ff1-0848-4592-b1ad-9e7b172b0ebd\n",
      "ERROR:root:> Mismatch in http://dunya.compmusic.upf.edu/makam/recording/d69470ef-dee5-4a11-9098-9135be5288d7\n",
      "ERROR:root:> Mismatch in http://dunya.compmusic.upf.edu/makam/recording/3a5c79f5-8244-496a-8f3b-2e8418fbcfcd\n",
      "ERROR:root:> Mismatch in http://dunya.compmusic.upf.edu/makam/recording/a7a9c147-695d-423a-a0ad-96cd373b4ab5\n",
      "ERROR:root:> Mismatch in http://dunya.compmusic.upf.edu/makam/recording/5bd0700b-d34f-4443-9e87-202870b0494f\n",
      "ERROR:root:> Mismatch in http://dunya.compmusic.upf.edu/makam/recording/8a0260ac-e8a5-42ed-af2a-a6f547996281\n",
      "ERROR:root:> Mismatch in http://dunya.compmusic.upf.edu/makam/recording/91b39d5b-7e8b-49fb-8e12-24381c364460\n",
      "WARNING:root:- 1589/2007 recordings have a single annotation. They can not be validated.\n",
      "WARNING:root:- 2005/2007 recordings are not verified\n"
     ]
    },
    {
     "name": "stdout",
     "output_type": "stream",
     "text": [
      "Annotations in 23 recording(s) are inconsistent\n"
     ]
    }
   ],
   "source": [
    "try:\n",
    "    test_annotations(anno_alfa)\n",
    "except AssertionError as err:\n",
    "    # get the number of mismatches\n",
    "    print err\n",
    "    num_err = [int(s) for s in err.args[0].split() if s.isdigit()][0]\n"
   ]
  },
  {
   "cell_type": "markdown",
   "metadata": {},
   "source": [
    "As can be seen _v3.0.0-alfa_ has inconsistencies in the annotation of 23 recordings out of 2007 according to the automatic tests. Nevertheless, there are some additional cases, which are not found by the automatic validation:\n",
    "\n",
    "- In _v3.0.0-alfa_, there were several recordings, where the tonic frequency/symbol varies throughout the recording (e.g. [Isfahan Peşrev by Mesut Cemil](http://musicbrainz.org/recording/ed189797-5c50-4fde-abfa-cb1c8a2a2571)). This variation was not annotated so the tonic informaiton is partiall true. \n",
    "    \n",
    "  Most of these recordings have been removed due to the rigor in re-annotating or the ambiguity in where the change occurs (e.g. in geçiş taksims). See [removed.json](https://github.com/MTG/otmm_tonic_dataset/blob/master/removed.json) for detailed reasonings.\n",
    "  \n",
    "- XX\n",
    "\n",
    "Therefore the automatic validation result above must be interpreted as the minimum number of recordings with inconsistencies."
   ]
  },
  {
   "cell_type": "markdown",
   "metadata": {},
   "source": [
    "Below, we compare the annotations from v3.0.0 to master and see what has changed"
   ]
  },
  {
   "cell_type": "code",
   "execution_count": 4,
   "metadata": {
    "collapsed": false,
    "scrolled": true
   },
   "outputs": [],
   "source": [
    "changed_recs = {}\n",
    "for aa_key, aa_val in anno_alfa.items():\n",
    "    try:\n",
    "        # get the relevant recording entry in master\n",
    "        am_val = anno_master[aa_key]\n",
    "        changed_recs[aa_key] = {'num_deleted_anno': 0, 'status': 'kept', \n",
    "                                'num_added_anno': 0, 'num_unchanged_anno': 0,\n",
    "                                'num_modified_anno': 0, 'num_auto_anno': 0}\n",
    "        \n",
    "        # note automatic annotations in master; they did not exist in v3.0.0-alfa\n",
    "        for jj, am_anno in reversed(list(enumerate(am_val['annotations']))):\n",
    "            if 'jointanalyzer' in am_anno['source']:\n",
    "                changed_recs[aa_key]['num_auto_anno'] += 1\n",
    "                am_val['annotations'].pop(jj)\n",
    "        \n",
    "        # start comparison from v3.0.0 to master\n",
    "        for ii, aa_anno in reversed(list(enumerate(aa_val['annotations']))):\n",
    "            passed_break = False\n",
    "            for jj, am_anno in reversed(list(enumerate(am_val['annotations']))):\n",
    "                if aa_anno['source'] == am_anno['source']:  # annotation exists\n",
    "                    # unchanged anno; allow a change less than 0.051 Hz due to \n",
    "                    # decimal point rounding\n",
    "                    if abs(aa_anno['value'] - am_anno['value']) < 0.06:\n",
    "                        changed_recs[aa_key]['num_unchanged_anno'] += 1\n",
    "                    else:  # modified anno (by a human verifier)\n",
    "                        changed_recs[aa_key]['num_modified_anno'] += 1\n",
    "                        \n",
    "                        # TODO: note the deviation\n",
    "                    \n",
    "                    # pop annotations\n",
    "                    am_val['annotations'].pop(jj)\n",
    "                    aa_val['annotations'].pop(ii)\n",
    "                    break\n",
    "                    \n",
    "        # the remainders are human addition and deletions\n",
    "        changed_recs[aa_key]['num_added_anno'] = len(am_val['annotations'])\n",
    "        changed_recs[aa_key]['num_deleted_anno'] = len(aa_val['annotations'])\n",
    "                              \n",
    "    except KeyError as kerr:  # removed \n",
    "        changed_recs[kerr.args[0]] = {'num_deleted_anno':len(aa_val['annotations']),\n",
    "                                'status': 'removed', 'num_added_anno': 0, \n",
    "                                'num_modified_anno': 0, 'num_unchanged_anno': 0,\n",
    "                                'num_auto_anno': 0}\n"
   ]
  },
  {
   "cell_type": "markdown",
   "metadata": {},
   "source": [
    "There are a few additions to the master, let's also add them to the comparison:"
   ]
  },
  {
   "cell_type": "code",
   "execution_count": 5,
   "metadata": {
    "collapsed": false
   },
   "outputs": [],
   "source": [
    "new_recs = set(anno_master.keys()) - set(anno_alfa.keys())\n",
    "for am_key in new_recs:\n",
    "    am_val = anno_master[am_key]\n",
    "    changed_recs[am_key] = {'num_deleted_anno': 0, 'status': 'new', \n",
    "                            'num_added_anno': 0, 'num_unchanged_anno': 0,\n",
    "                            'num_modified_anno': 0, 'num_auto_anno': 0}\n",
    "\n",
    "    # note automatic annotations; they did not exist in v3.0.0-alfa\n",
    "    for jj, am_anno in reversed(list(enumerate(am_val['annotations']))):\n",
    "        if 'jointanalyzer' in am_anno['source']:\n",
    "            changed_recs[am_key]['num_auto_anno'] += 1\n",
    "            am_val['annotations'].pop(jj)\n",
    "    \n",
    "    # the remainders are human additions\n",
    "    changed_recs[am_key]['num_added_anno'] = len(am_val['annotations'])"
   ]
  },
  {
   "cell_type": "markdown",
   "metadata": {},
   "source": [
    "Finally, we are reporting all the differences:"
   ]
  },
  {
   "cell_type": "code",
   "execution_count": null,
   "metadata": {
    "collapsed": true
   },
   "outputs": [],
   "source": [
    "# TODO add statistics\n",
    "\n",
    "# how many recordings have changed\n",
    "# many many annotation modifications/additions/deletions in how many recordings\n",
    "# how many automatic annotations in how many recordings\n",
    "# how many human modifications/additions/deletions in how many recordings\n",
    "# distribution of human frequency modifications"
   ]
  }
 ],
 "metadata": {
  "kernelspec": {
   "display_name": "Python 2",
   "language": "python",
   "name": "python2"
  },
  "language_info": {
   "codemirror_mode": {
    "name": "ipython",
    "version": 2
   },
   "file_extension": ".py",
   "mimetype": "text/x-python",
   "name": "python",
   "nbconvert_exporter": "python",
   "pygments_lexer": "ipython2",
   "version": "2.7.11+"
  }
 },
 "nbformat": 4,
 "nbformat_minor": 2
}
