{
 "cells": [
  {
   "cell_type": "code",
   "execution_count": 1,
   "metadata": {
    "collapsed": true
   },
   "outputs": [],
   "source": [
    "from makammusicbrainz.audiometadata import AudioMetadata\n",
    "from ahenkidentifier.ahenkidentifier import AhenkIdentifier\n",
    "import json\n",
    "import os\n"
   ]
  },
  {
   "cell_type": "markdown",
   "metadata": {},
   "source": [
    "First, we crawl the metadata from MusicBrainz using [makammusicbrainz](https://github.com/sertansenturk/makammusicbrainz)."
   ]
  },
  {
   "cell_type": "code",
   "execution_count": 2,
   "metadata": {
    "collapsed": false
   },
   "outputs": [],
   "source": [
    "anno_dict = json.load(open('../annotations.json'))\n",
    "mbids = anno_dict.keys()\n",
    "audio_meta_crawler = AudioMetadata()\n",
    "\n",
    "for ii, mbid in enumerate(mbids):\n",
    "    save_file = os.path.join('../metadata/%s.json' % mbid)\n",
    "    if not os.path.exists(save_file):\n",
    "        print(\"Crawling %s\" %mbid)\n",
    "        meta = audio_meta_crawler.from_musicbrainz(mbid)\n",
    "        json.dump(meta, open(save_file, 'w'), indent=4)\n",
    "        "
   ]
  },
  {
   "cell_type": "markdown",
   "metadata": {},
   "source": [
    "Below, we are ading the tonic symbol. We load the already crawled MusicBrainz metadata to fetch the makam. Then, we fetch the tonic symbol by looking up in a makam tonic dictionary"
   ]
  },
  {
   "cell_type": "code",
   "execution_count": 3,
   "metadata": {
    "collapsed": false,
    "scrolled": true
   },
   "outputs": [
    {
     "name": "stdout",
     "output_type": "stream",
     "text": [
      "161 754d6f70-e460-4e8b-89ba-cac1e1ebeacd\n",
      "... Tonic symbol not available for: \n",
      "191 a8cd450e-e8d9-4245-b670-2a9626e14b0c\n",
      "... Tonic symbol not available for: \n",
      "476 d2ebf684-8b56-418c-866a-0fa6b8acda1e\n",
      "... More than one tonic symbol for: acemkurdi, mahur\n",
      "622 00022b8f-a731-49dd-9fcf-6bda7b297545\n",
      "... Tonic symbol not available for: \n",
      "623 f9150889-a3b4-4031-bee7-287a8e3da356\n",
      "... Tonic symbol not available for: \n",
      "679 686ee26e-a03c-4823-8fc5-056c7aba1013\n",
      "... Tonic symbol not available for: \n",
      "773 761ccd82-281b-4f54-95fe-1d4bb27e5585\n",
      "... Tonic symbol not available for: \n",
      "924 06a7aef4-a5cc-41e6-b5bb-7a529fea17c0\n",
      "... No makam info available\n",
      "947 79f1ac75-1c45-4631-886a-1c309799ed21\n",
      "... More than one tonic symbol for: kurdilihicazkar, muhayyerkurdi\n",
      "1063 12c0f5c7-ca7e-4327-a819-7e3bb38454d9\n",
      "... No makam info available\n",
      "1212 0a49eb8e-79f5-429e-9846-a36dda35dd23\n",
      "... Tonic symbol not available for: \n",
      "1316 0fa2576a-a189-4b73-b0fb-42ddbcffa64d\n",
      "... Tonic symbol not available for: \n",
      "1418 78d58438-81fc-41a3-8ecf-30e61e5e74c3\n",
      "... No makam info available\n",
      "1480 ef2e469f-7ffd-4a24-8113-8ee3ee4efab2\n",
      "... No makam info available\n",
      "1506 b666a9ff-af7d-4699-9105-1f7e3d107a29\n",
      "... No makam info available\n",
      "1552 3f9b5288-1082-48ca-94f2-b91b407ea5c2\n",
      "... Tonic symbol not available for: \n",
      "1553 9eced240-f283-4146-b96b-fa8a89fe8481\n",
      "... No makam info available\n",
      "1603 06559f21-2e57-46db-8160-4311b80d6fcc\n",
      "... Tonic symbol not available for: \n",
      "1667 37dd6a6a-4c19-4a86-886a-882840d59518\n",
      "... More than one tonic symbol for: pesendide, pencgah, acemasiran\n",
      "1669 231f7ac2-8ff6-4976-b784-d80b1fa9600d\n",
      "... No makam info available\n",
      "1712 f59bfbef-b168-4cfb-a2e3-bc1d82e3785e\n",
      "... Tonic symbol not available for: \n",
      "1781 9aa1fa31-d679-4dd7-b755-7cf68aa4aca5\n",
      "... More than one tonic symbol for: ussak, huseyni, sehnaz, hicaz, suzidil, dilkeshaveran\n",
      "1836 26039700-57d1-4d09-9d00-771242019de1\n",
      "... Tonic symbol not available for: \n",
      "1885 99041cd5-fd7b-4630-a03f-b8c038c0fd3d\n",
      "... Tonic symbol not available for: \n",
      "1888 2d6c58a2-44c7-4616-80c4-8d68c0f1adb8\n",
      "... More than one tonic symbol for: suzinak, hicaz\n",
      "1898 64fe6570-2859-45a7-be4a-3e1306b932af\n",
      "... No makam info available\n",
      "1900 1f78c4a9-68fa-4830-baad-cfa57d51ad45\n",
      "... No makam info available\n",
      "1902 7340b3c0-30ef-4148-a959-e61d82dad2f7\n",
      "... Tonic symbol not available for: \n"
     ]
    }
   ],
   "source": [
    "tonic_dict = AhenkIdentifier._get_dict('tonic')  # load the makam tonic dict\n",
    "\n",
    "for ii, (key, val) in enumerate(anno_dict.items()):\n",
    "    # load the metadata\n",
    "    meta_file = os.path.join('../metadata/%s.json' % key)\n",
    "    meta = json.load(open(meta_file))\n",
    "    \n",
    "    try:\n",
    "        makams = set(mm['attribute_key'] for mm in meta['makam'])\n",
    "\n",
    "        tonics = set(AhenkIdentifier._get_tonic_symbol_from_makam(\n",
    "                mm, tonic_dict)[0] for mm in makams)\n",
    "\n",
    "        if len(tonics) == 1:\n",
    "            for aa in anno_dict[key]['annotations']:\n",
    "                if aa['tonic_symbol']:  # don't override\n",
    "                    if aa['tonic_symbol'] != list(tonics)[0]:\n",
    "                        print str(ii) + ' ' + key\n",
    "                        print \"... Tonic symbol mismatch: \" + aa['tonic_symbol'] + ' -> ' + list(tonics)[0]\n",
    "                else:\n",
    "                    aa['tonic_symbol'] = list(tonics)[0]\n",
    "        elif len(tonics) > 1:\n",
    "            print str(ii) + ' ' + key\n",
    "            print \"... More than one tonic symbol for: \" + ', '.join(makams)\n",
    "        else:  # not tonic\n",
    "            print str(ii) + ' ' + key\n",
    "            print \"... Tonic symbol not available for: \" + ', '.join(makams)\n",
    "    except KeyError:\n",
    "        print str(ii) + ' ' + key\n",
    "        print \"... No makam info available\""
   ]
  },
  {
   "cell_type": "code",
   "execution_count": 4,
   "metadata": {
    "collapsed": true
   },
   "outputs": [],
   "source": [
    "json.dump(anno_dict, open('../annotations.json', 'w'), indent=2)"
   ]
  }
 ],
 "metadata": {
  "kernelspec": {
   "display_name": "Python 2",
   "language": "python",
   "name": "python2"
  },
  "language_info": {
   "codemirror_mode": {
    "name": "ipython",
    "version": 2
   },
   "file_extension": ".py",
   "mimetype": "text/x-python",
   "name": "python",
   "nbconvert_exporter": "python",
   "pygments_lexer": "ipython2",
   "version": "2.7.11+"
  }
 },
 "nbformat": 4,
 "nbformat_minor": 1
}
