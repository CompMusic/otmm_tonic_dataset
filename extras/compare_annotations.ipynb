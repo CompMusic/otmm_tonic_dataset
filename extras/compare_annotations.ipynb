{
 "cells": [
  {
   "cell_type": "markdown",
   "metadata": {},
   "source": [
    "In this notebook, we track the changes in annotations between the _master_ and [v3.0.0-alpha](https://github.com/MTG/otmm_tonic_dataset/tree/v3.0.0-alpha). _v3.0.0-alpha_ is the pre-release of the dataset when all the tonic test datasets had been merged prior to annotation verification."
   ]
  },
  {
   "cell_type": "code",
   "execution_count": 1,
   "metadata": {
    "collapsed": false
   },
   "outputs": [],
   "source": [
    "import urllib2\n",
    "import json\n",
    "import numpy as np\n",
    "from unittests.validate_annotations import test_annotations\n",
    "import warnings"
   ]
  },
  {
   "cell_type": "code",
   "execution_count": 2,
   "metadata": {
    "collapsed": false
   },
   "outputs": [],
   "source": [
    "# load master data\n",
    "anno_master = json.load(open('../annotations.json'))\n",
    "\n",
    "# load v3.0.0-alpha data\n",
    "anno_alpha_url = 'https://raw.githubusercontent.com/MTG/otmm_tonic_dataset/v3.0.0-alpha/annotations.json'\n",
    "response = urllib2.urlopen(anno_alpha_url)\n",
    "anno_alpha = json.load(response)\n"
   ]
  },
  {
   "cell_type": "markdown",
   "metadata": {},
   "source": [
    "Next, we run the [automatic validation tests](https://github.com/MTG/otmm_tonic_dataset/blob/master/unittests/validate_annotations.py#L11) on _master_ to find how many recordings has XX."
   ]
  },
  {
   "cell_type": "code",
   "execution_count": 3,
   "metadata": {
    "collapsed": false
   },
   "outputs": [
    {
     "data": {
      "text/plain": [
       "45.53660982948846"
      ]
     },
     "execution_count": 3,
     "metadata": {},
     "output_type": "execute_result"
    }
   ],
   "source": [
    "100-108600/1994.0"
   ]
  },
  {
   "cell_type": "code",
   "execution_count": 4,
   "metadata": {
    "collapsed": false
   },
   "outputs": [
    {
     "name": "stderr",
     "output_type": "stream",
     "text": [
      "INFO:root:- Validating 1994 recordings\n",
      "WARNING:root:* Ignored http://dunya.compmusic.upf.edu/makam/recording/37dd6a6a-4c19-4a86-886a-882840d59518 due to tonic changing in time. Please check the recording manually\n",
      "WARNING:root:* Ignored http://dunya.compmusic.upf.edu/makam/recording/ed189797-5c50-4fde-abfa-cb1c8a2a2571 due to tonic changing in time. Please check the recording manually\n",
      "WARNING:root:- 1086/1994 recordings have a single annotation. They can not be validated.\n",
      "WARNING:root:* Missing tonic symbol for http://dunya.compmusic.upf.edu/makam/recording/754d6f70-e460-4e8b-89ba-cac1e1ebeacd\n",
      "WARNING:root:* Missing tonic symbol for http://dunya.compmusic.upf.edu/makam/recording/a8cd450e-e8d9-4245-b670-2a9626e14b0c\n",
      "WARNING:root:* Missing tonic symbol for http://dunya.compmusic.upf.edu/makam/recording/00022b8f-a731-49dd-9fcf-6bda7b297545\n",
      "WARNING:root:* Missing tonic symbol for http://dunya.compmusic.upf.edu/makam/recording/f9150889-a3b4-4031-bee7-287a8e3da356\n",
      "WARNING:root:* Missing tonic symbol for http://dunya.compmusic.upf.edu/makam/recording/686ee26e-a03c-4823-8fc5-056c7aba1013\n",
      "WARNING:root:* Missing tonic symbol for http://dunya.compmusic.upf.edu/makam/recording/64fe6570-2859-45a7-be4a-3e1306b932af\n",
      "WARNING:root:* Missing tonic symbol for http://dunya.compmusic.upf.edu/makam/recording/761ccd82-281b-4f54-95fe-1d4bb27e5585\n",
      "WARNING:root:* Missing tonic symbol for http://dunya.compmusic.upf.edu/makam/recording/0a49eb8e-79f5-429e-9846-a36dda35dd23\n",
      "WARNING:root:* Missing tonic symbol for http://dunya.compmusic.upf.edu/makam/recording/0fa2576a-a189-4b73-b0fb-42ddbcffa64d\n",
      "WARNING:root:* Missing tonic symbol for http://dunya.compmusic.upf.edu/makam/recording/3f9b5288-1082-48ca-94f2-b91b407ea5c2\n",
      "WARNING:root:* Missing tonic symbol for http://dunya.compmusic.upf.edu/makam/recording/78d58438-81fc-41a3-8ecf-30e61e5e74c3\n",
      "WARNING:root:* Missing tonic symbol for http://dunya.compmusic.upf.edu/makam/recording/ef2e469f-7ffd-4a24-8113-8ee3ee4efab2\n",
      "WARNING:root:* Missing tonic symbol for http://dunya.compmusic.upf.edu/makam/recording/b666a9ff-af7d-4699-9105-1f7e3d107a29\n",
      "WARNING:root:* Missing tonic symbol for http://dunya.compmusic.upf.edu/makam/recording/9eced240-f283-4146-b96b-fa8a89fe8481\n",
      "WARNING:root:* Missing tonic symbol for http://dunya.compmusic.upf.edu/makam/recording/06559f21-2e57-46db-8160-4311b80d6fcc\n",
      "WARNING:root:* Missing tonic symbol for http://dunya.compmusic.upf.edu/makam/recording/231f7ac2-8ff6-4976-b784-d80b1fa9600d\n",
      "WARNING:root:* Missing tonic symbol for http://dunya.compmusic.upf.edu/makam/recording/f59bfbef-b168-4cfb-a2e3-bc1d82e3785e\n",
      "WARNING:root:* Missing tonic symbol for http://dunya.compmusic.upf.edu/makam/recording/06a7aef4-a5cc-41e6-b5bb-7a529fea17c0\n",
      "WARNING:root:* Missing tonic symbol for http://dunya.compmusic.upf.edu/makam/recording/26039700-57d1-4d09-9d00-771242019de1\n",
      "WARNING:root:* Missing tonic symbol for http://dunya.compmusic.upf.edu/makam/recording/99041cd5-fd7b-4630-a03f-b8c038c0fd3d\n",
      "WARNING:root:* Missing tonic symbol for http://dunya.compmusic.upf.edu/makam/recording/12c0f5c7-ca7e-4327-a819-7e3bb38454d9\n",
      "WARNING:root:* Missing tonic symbol for http://dunya.compmusic.upf.edu/makam/recording/1f78c4a9-68fa-4830-baad-cfa57d51ad45\n",
      "WARNING:root:* Missing tonic symbol for http://dunya.compmusic.upf.edu/makam/recording/7340b3c0-30ef-4148-a959-e61d82dad2f7\n",
      "WARNING:root:- Annotations in 23/1994 recordings have missing tonic symbol.\n",
      "WARNING:root:- 1916/1994 recordings are not verified\n"
     ]
    }
   ],
   "source": [
    "test_annotations(anno_master)"
   ]
  },
  {
   "cell_type": "markdown",
   "metadata": {},
   "source": [
    "Next, we run the [automatic validation tests](https://github.com/MTG/otmm_tonic_dataset/blob/master/unittests/validate_annotations.py#L11) on _v3.0.0-alpha_ to find how many recordings had annotation inconsistencies before verification."
   ]
  },
  {
   "cell_type": "code",
   "execution_count": 5,
   "metadata": {
    "collapsed": false
   },
   "outputs": [
    {
     "name": "stderr",
     "output_type": "stream",
     "text": [
      "INFO:root:- Validating 2007 recordings\n",
      "ERROR:root:> Mismatch in http://dunya.compmusic.upf.edu/makam/recording/5a44e069-3b0e-4a28-b515-b7b257b6373a\n",
      "ERROR:root:> Mismatch in http://dunya.compmusic.upf.edu/makam/recording/428a80a9-d545-4ad3-9324-237368bcf027\n",
      "ERROR:root:> Mismatch in http://dunya.compmusic.upf.edu/makam/recording/5f11df16-816d-4253-ae6d-04f6ed0ed309\n",
      "ERROR:root:> Mismatch in http://dunya.compmusic.upf.edu/makam/recording/52fb0080-4c80-44c0-858a-46e4a4bded0a\n",
      "ERROR:root:> Mismatch in http://dunya.compmusic.upf.edu/makam/recording/d622b79a-a6f8-40f9-b002-3b68890e4e25\n",
      "ERROR:root:> Mismatch in http://dunya.compmusic.upf.edu/makam/recording/b0ff86ee-25ca-415e-b377-84038efe43a9\n",
      "ERROR:root:> Mismatch in http://dunya.compmusic.upf.edu/makam/recording/9c9d3440-011b-4357-9eb7-303a8aeb5e8f\n",
      "ERROR:root:> Mismatch in http://dunya.compmusic.upf.edu/makam/recording/d2ebf684-8b56-418c-866a-0fa6b8acda1e\n",
      "ERROR:root:> Mismatch in http://dunya.compmusic.upf.edu/makam/recording/632656b7-6a0f-476a-80cd-ced396bdb57c\n",
      "ERROR:root:> Mismatch in http://dunya.compmusic.upf.edu/makam/recording/09053a05-182d-4335-8618-34365c9b2ad1\n",
      "ERROR:root:> Mismatch in http://dunya.compmusic.upf.edu/makam/recording/132cb194-c083-4002-9cc9-720b8cbfc61c\n",
      "ERROR:root:> Mismatch in http://dunya.compmusic.upf.edu/makam/recording/163dfec1-0ee0-454a-9438-620011824a43\n",
      "ERROR:root:> Mismatch in http://dunya.compmusic.upf.edu/makam/recording/e54a1762-9464-45c6-b399-0fb3ec6aff67\n",
      "ERROR:root:> Mismatch in http://dunya.compmusic.upf.edu/makam/recording/f79d0e6b-b5e1-4ad4-9ef0-81be05cce9a6\n",
      "ERROR:root:> Mismatch in http://dunya.compmusic.upf.edu/makam/recording/430eb7d0-5326-4883-ad04-a6c8f2383ee9\n",
      "ERROR:root:> Mismatch in http://dunya.compmusic.upf.edu/makam/recording/a0cac3d2-2c80-4710-985e-0c8ba73a4c26\n",
      "ERROR:root:> Mismatch in http://dunya.compmusic.upf.edu/makam/recording/43745ff1-0848-4592-b1ad-9e7b172b0ebd\n",
      "ERROR:root:> Mismatch in http://dunya.compmusic.upf.edu/makam/recording/d69470ef-dee5-4a11-9098-9135be5288d7\n",
      "ERROR:root:> Mismatch in http://dunya.compmusic.upf.edu/makam/recording/3a5c79f5-8244-496a-8f3b-2e8418fbcfcd\n",
      "ERROR:root:> Mismatch in http://dunya.compmusic.upf.edu/makam/recording/a7a9c147-695d-423a-a0ad-96cd373b4ab5\n",
      "ERROR:root:> Mismatch in http://dunya.compmusic.upf.edu/makam/recording/5bd0700b-d34f-4443-9e87-202870b0494f\n",
      "ERROR:root:> Mismatch in http://dunya.compmusic.upf.edu/makam/recording/8a0260ac-e8a5-42ed-af2a-a6f547996281\n",
      "ERROR:root:> Mismatch in http://dunya.compmusic.upf.edu/makam/recording/91b39d5b-7e8b-49fb-8e12-24381c364460\n",
      "WARNING:root:- 1589/2007 recordings have a single annotation. They can not be validated.\n",
      "WARNING:root:- 2005/2007 recordings are not verified\n"
     ]
    },
    {
     "name": "stdout",
     "output_type": "stream",
     "text": [
      "Annotations in 23 recording(s) are inconsistent\n",
      "The human annotators show inconsistencies in 5.5% of the 418 tested recordings.\n"
     ]
    }
   ],
   "source": [
    "try:\n",
    "    test_annotations(anno_alpha)\n",
    "except AssertionError as err:\n",
    "    # get the number of mismatches\n",
    "    print err\n",
    "    num_err = [int(s) for s in err.args[0].split() if s.isdigit()][0]\n",
    "    inconsistent_percent = float(num_err) * 100 / (2007-1589)  # taken from the penultimate warning\n",
    "    print(\"The human annotators show inconsistencies in {:.1f}% of \"\n",
    "          \"the {:d} tested recordings.\".format(inconsistent_percent, 2007-1589))\n",
    "    \n"
   ]
  },
  {
   "cell_type": "markdown",
   "metadata": {},
   "source": [
    "As can be seen _v3.0.0-alpha_ has inconsistencies in the annotation of 23 recordings out of 2007 according to the automatic tests. Nevertheless, there are some additional cases, which are not found by the automatic validation. Therefore the automatic validation result above must be interpreted as the minimum number of recordings with inconsistencies. Below the two major reasonings are explained:\n",
    "\n",
    "- In _v3.0.0-alpha_, there were several recordings, where the tonic frequency/symbol varies throughout the recording (e.g. [Isfahan Peşrev by Mesut Cemil](http://musicbrainz.org/recording/ed189797-5c50-4fde-abfa-cb1c8a2a2571)). This variation was not annotated so the tonic informaiton is partiall true. \n",
    "    \n",
    "  Most of these recordings have been removed due to the rigor in re-annotating or the ambiguity in where the change occurs (e.g. in geçiş taksims). See [removed.json](https://github.com/MTG/otmm_tonic_dataset/blob/master/removed.json) for detailed reasonings.\n",
    "  \n",
    "- As seen from the output warning for the validation test, only 2007 - 1589 = 418 recordings (~20% of the dataset) have been validated. Therefore, the coverage of the automatic validation is not adequate in _v3.0.0-alpha_. Note that the human annotators show inconsistencies in 5.5% of the tested recordings. \n",
    "\n",
    "  To compensate, we added the automatic tonic annotations obtained by joint analysis. Next, the recordings with automatic annotations went thorough a final verification by a human annotator. After verification 789 (in 782 recordings, see the statistics printed in the 6th cell, below.) automatic annotations were found to be correct and the rest of automatic annotations are discarded (<20 annotations; less than 2.4% error). The accuracy of the automatic annotation method less than but is similar to the 99% accuracy reported in the original paper (Şentürk, S., Gulati, S., and Serra, X., 2013) and better than humans annotators. \n",
    "\n",
    "Reference\n",
    "----------\n",
    "Şentürk, S., Gulati, S., and Serra, X. (2013). Score informed tonic identification for makam music of Turkey. In Proceedings of 14th International Society for Music Information Retrieval Conference (ISMIR 2013), pages 175–180, Curitiba, Brazil."
   ]
  },
  {
   "cell_type": "markdown",
   "metadata": {},
   "source": [
    "Below, we compare the annotations from v3.0.0 to master and see what has changed"
   ]
  },
  {
   "cell_type": "code",
   "execution_count": 6,
   "metadata": {
    "collapsed": false,
    "scrolled": true
   },
   "outputs": [],
   "source": [
    "rec_stats = {}\n",
    "for aa_key, aa_val in anno_alpha.items():\n",
    "    try:\n",
    "        # get the relevant recording entry in master\n",
    "        am_val = anno_master[aa_key]\n",
    "        rec_stats[aa_key] = {'num_deleted_anno': 0, 'status': 'kept', \n",
    "                             'num_added_anno': 0, 'num_unchanged_anno': 0,\n",
    "                             'num_modified_anno': 0, 'num_auto_anno': 0,\n",
    "                             'verified': am_val['verified']}\n",
    "        \n",
    "        # note automatic annotations in master; they did not exist in v3.0.0-alpha\n",
    "        for jj, am_anno in reversed(list(enumerate(am_val['annotations']))):\n",
    "            if 'jointanalyzer' in am_anno['source']:\n",
    "                rec_stats[aa_key]['num_auto_anno'] += 1\n",
    "                am_val['annotations'].pop(jj)\n",
    "        \n",
    "        # start comparison from v3.0.0 to master\n",
    "        for ii, aa_anno in reversed(list(enumerate(aa_val['annotations']))):\n",
    "            passed_break = False\n",
    "            for jj, am_anno in reversed(list(enumerate(am_val['annotations']))):\n",
    "                if aa_anno['source'] == am_anno['source']:  # annotation exists\n",
    "                    # unchanged anno; allow a change less than 0.051 Hz due to \n",
    "                    # decimal point rounding\n",
    "                    if abs(aa_anno['value'] - am_anno['value']) < 0.06:\n",
    "                        rec_stats[aa_key]['num_unchanged_anno'] += 1\n",
    "                    else:  # modified anno (by a human verifier)\n",
    "                        rec_stats[aa_key]['num_modified_anno'] += 1\n",
    "                        \n",
    "                        # TODO: note the deviation\n",
    "                    \n",
    "                    # pop annotations\n",
    "                    am_val['annotations'].pop(jj)\n",
    "                    aa_val['annotations'].pop(ii)\n",
    "                    break\n",
    "                    \n",
    "        # the remainders are human addition and deletions\n",
    "        rec_stats[aa_key]['num_added_anno'] = len(am_val['annotations'])\n",
    "        rec_stats[aa_key]['num_deleted_anno'] = len(aa_val['annotations'])\n",
    "                              \n",
    "    except KeyError as kerr:  # removed \n",
    "        rec_stats[kerr.args[0]] = {'num_deleted_anno':len(aa_val['annotations']),\n",
    "                                   'status': 'removed', 'num_added_anno': 0, \n",
    "                                   'num_modified_anno': 0, 'num_unchanged_anno': 0,\n",
    "                                   'num_auto_anno': 0, 'verified': True}\n"
   ]
  },
  {
   "cell_type": "markdown",
   "metadata": {},
   "source": [
    "There are a few additions to the master, let's also add them to the comparison:"
   ]
  },
  {
   "cell_type": "code",
   "execution_count": 7,
   "metadata": {
    "collapsed": false
   },
   "outputs": [],
   "source": [
    "new_recs = set(anno_master.keys()) - set(anno_alpha.keys())\n",
    "for am_key in new_recs:\n",
    "    am_val = anno_master[am_key]\n",
    "    rec_stats[am_key] = {'num_deleted_anno': 0, 'status': 'new', \n",
    "                         'num_added_anno': 0, 'num_unchanged_anno': 0,\n",
    "                         'num_modified_anno': 0, 'num_auto_anno': 0,\n",
    "                         'verified': am_val['verified']}\n",
    "\n",
    "    # note automatic annotations; they did not exist in v3.0.0-alpha\n",
    "    for jj, am_anno in reversed(list(enumerate(am_val['annotations']))):\n",
    "        if 'jointanalyzer' in am_anno['source']:\n",
    "            rec_stats[am_key]['num_auto_anno'] += 1\n",
    "            am_val['annotations'].pop(jj)\n",
    "    \n",
    "    # the remainders are human additions\n",
    "    rec_stats[am_key]['num_added_anno'] = len(am_val['annotations'])"
   ]
  },
  {
   "cell_type": "markdown",
   "metadata": {},
   "source": [
    "Finally, we are reporting all the differences:"
   ]
  },
  {
   "cell_type": "code",
   "execution_count": 8,
   "metadata": {
    "collapsed": false
   },
   "outputs": [
    {
     "name": "stdout",
     "output_type": "stream",
     "text": [
      "In master, there are 3262 annotations in total in 1994 recordings.\n",
      "Since v3.0.0-alpha, 15 recordings are removed and 2 new recordings are added.\n",
      "805 recordings are changed (incl. automatic annotations). 1932 of the annotations are verified in these recordings.\n",
      "98 annotations in 83 recordings are changed by humans in total. 174 of the annotations are verified by humans in these recordings.\n",
      "12 annotations are added to 11 recordings by humans.\n",
      "25 annotations are deleted from 23 recordings by humans.\n",
      "61 annotations are modified in 56 recordings by humans.\n",
      "789 automatic annotations are added to 782 recordings.\n"
     ]
    }
   ],
   "source": [
    "# removed \n",
    "rm_recs_in_json = json.load(open('../removed.json')).keys()\n",
    "\n",
    "# TODO add statistics\n",
    "num_removed_rec = 0\n",
    "num_new_rec = 0\n",
    "\n",
    "num_changed_rec = 0  # num recordings with changes, incl. automatic annotations\n",
    "num_human_changed_rec = 0  # num recordings with human changes\n",
    "\n",
    "num_anno = 0  # total number of annotations\n",
    "num_verified_anno = 0  # total number of verified annotations\n",
    "num_human_verified_anno = 0  # totola number of annotations verified by humans\n",
    "\n",
    "num_additions = 0  # number of added annotations\n",
    "num_deletions = 0  # number of deleted annotations\n",
    "num_modifications = 0  # number of modified annotations\n",
    "num_unchanged = 0  # number of unchanged annotations\n",
    "num_auto = 0  # number of automatic annotations\n",
    "\n",
    "num_rec_add = 0  # number of recordings with additions\n",
    "num_rec_del = 0  # number of recordings with deletions\n",
    "num_rec_mod = 0  # number of recordings with modification\n",
    "num_rec_auto = 0  # number of recordings with automatic annotations\n",
    "\n",
    "for rk, rs in rec_stats.items():\n",
    "    # get the number of removed and new recordings\n",
    "    if rs['status'] == 'removed':\n",
    "        num_removed_rec += 1\n",
    "        if rk not in rm_recs_in_json:  # verify they are listed in removed.json\n",
    "            warnings.warn('%s is removed but not listed in removed.json' % rk)\n",
    "    elif rs['status'] == 'new':\n",
    "        num_new_rec += 1\n",
    "        \n",
    "    num_anno += (rs['num_added_anno'] + rs['num_auto_anno'] + \n",
    "                 rs['num_modified_anno'] + rs['num_unchanged_anno'])\n",
    "    \n",
    "    # how many recordings have changed\n",
    "    if any([rs['num_added_anno'], rs['num_auto_anno'], \n",
    "            rs['num_deleted_anno'], rs['num_modified_anno']]):\n",
    "        num_changed_rec += 1\n",
    "        num_verified_anno += (rs['num_added_anno'] + rs['num_auto_anno'] + \n",
    "                              rs['num_modified_anno'] + rs['num_unchanged_anno'])\n",
    "        \n",
    "    # how many recordings have changed only by humans\n",
    "    if any([rs['num_added_anno'], rs['num_deleted_anno'], rs['num_modified_anno']]):\n",
    "        num_human_changed_rec += 1\n",
    "        num_human_verified_anno += (rs['num_added_anno'] + rs['num_auto_anno'] + \n",
    "                                   rs['num_modified_anno'] + rs['num_unchanged_anno'])\n",
    "        if not rs['verified']:\n",
    "            warnings.warn(\"%s has changes but verified flag is False\" % rk)\n",
    "        \n",
    "    # how many automatic annotations in how many recordings\n",
    "    num_auto += rs['num_auto_anno']\n",
    "    num_rec_auto += rs['num_auto_anno'] > 0\n",
    "    \n",
    "    # how many annotation modifications/additions/deletions in how many recordings\n",
    "    num_additions += rs['num_added_anno']\n",
    "    num_rec_add += rs['num_added_anno'] > 0\n",
    "    num_deletions += rs['num_deleted_anno']\n",
    "    num_rec_del += rs['num_deleted_anno'] > 0\n",
    "    num_modifications += rs['num_modified_anno']\n",
    "    num_rec_mod += rs['num_modified_anno'] > 0\n",
    "    \n",
    "    # how many unchanged annotations\n",
    "    num_unchanged += rs['num_unchanged_anno']\n",
    "    \n",
    "    # distribution of human frequency modifications\n",
    "    \n",
    "# print \n",
    "print('In master, there are %d annotations in total in %d recordings.' \n",
    "      % (num_anno, len(anno_master)))\n",
    "print('Since v3.0.0-alpha, %d recordings are removed and %d new recordings are added.'\n",
    "      % (num_removed_rec, num_new_rec))\n",
    "\n",
    "print('%d recordings are changed (incl. automatic annotations). '\n",
    "      '%d of the annotations are verified in these recordings.' \n",
    "      % (num_changed_rec, num_verified_anno))\n",
    "\n",
    "print('%d annotations in %d recordings are changed by humans in total. '\n",
    "      '%d of the annotations are verified by humans in these recordings.' \n",
    "      % (num_additions + num_deletions + num_modifications, \n",
    "         num_human_changed_rec, num_human_verified_anno))\n",
    "\n",
    "print('%d annotations are added to %d recordings by humans.' %(num_additions, num_rec_add))\n",
    "print('%d annotations are deleted from %d recordings by humans.' %(num_deletions, num_rec_del))\n",
    "print('%d annotations are modified in %d recordings by humans.' %(num_modifications, num_rec_mod))\n",
    "\n",
    "print('%d automatic annotations are added to %d recordings.' %(num_auto, num_rec_auto))\n"
   ]
  }
 ],
 "metadata": {
  "kernelspec": {
   "display_name": "Python 2",
   "language": "python",
   "name": "python2"
  },
  "language_info": {
   "codemirror_mode": {
    "name": "ipython",
    "version": 2
   },
   "file_extension": ".py",
   "mimetype": "text/x-python",
   "name": "python",
   "nbconvert_exporter": "python",
   "pygments_lexer": "ipython2",
   "version": "2.7.11+"
  }
 },
 "nbformat": 4,
 "nbformat_minor": 2
}
