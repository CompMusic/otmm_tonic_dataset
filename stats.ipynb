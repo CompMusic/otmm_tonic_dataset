{
 "cells": [
  {
   "cell_type": "code",
   "execution_count": 1,
   "metadata": {
    "collapsed": false
   },
   "outputs": [],
   "source": [
    "import numpy as np\n",
    "import json\n",
    "import pprint\n",
    "from matplotlib import pyplot as plt\n",
    "from fileoperations.fileoperations import get_filenames_in_dir\n",
    "from morty.pitchdistribution import PitchDistribution\n",
    "from morty.converter import Converter"
   ]
  },
  {
   "cell_type": "markdown",
   "metadata": {},
   "source": [
    "Below we are aggregating the tonic frequencies. For recordings, which have more than one annotation, we average the frequency.\n",
    "\n",
    "Due to possible differences in annotation octave, directly taking the mean of frequencies would be erroneous. In addition, the octave information is ill-defined for recordings in which each instrument play the same melody in their own register. For these reasons, initially wrapped the annotation into a single octave (centered around the frequency of the first annotation as a dummy reference) and then take the mean.\n",
    "\n",
    "If there is a change in tonic frequency over time in an audio recording, the time intervals are specified. This field if left empty, otherwise. We are ignoring recordings with variable tonic (there are very few cases)."
   ]
  },
  {
   "cell_type": "code",
   "execution_count": 19,
   "metadata": {
    "collapsed": false
   },
   "outputs": [],
   "source": [
    "tonic_json = json.load(open('annotations.json'))\n",
    "\n",
    "tonic_array = []\n",
    "for value in tonic_json.values():\n",
    "    temp_time = [annot['time_interval'] for annot in value['annotations']]\n",
    "    \n",
    "    # Skip if there is an annotated time interval\n",
    "    if not any(tt for tt in temp_time):\n",
    "        temp_tonic = np.array([annot['value'] for annot in value['annotations']])\n",
    "        \n",
    "        # wrap the frequencies around the first annotation\n",
    "        dummy_tonic = temp_tonic[0] # the first annotation\n",
    "        temp_tonic = np.array([Converter.hz_to_cent(tt, dummy_tonic) for tt in temp_tonic])\n",
    "        temp_tonic = np.mod(temp_tonic, 1200)  # Octave wrapped\n",
    "        \n",
    "        temp_tonic[temp_tonic>600] -= 1200  # center around the first annotation\n",
    "        temp_mean = np.mean(temp_tonic)\n",
    "        tonic_array.append(Converter.cent_to_hz(temp_mean, dummy_tonic))"
   ]
  },
  {
   "cell_type": "markdown",
   "metadata": {},
   "source": [
    "Below we compute the distribution of pitches. We use [the PitchDistribution class from morty] (https://github.com/altugkarakurt/morty/blob/master/morty/pitchdistribution.py)]"
   ]
  },
  {
   "cell_type": "code",
   "execution_count": 17,
   "metadata": {
    "collapsed": false
   },
   "outputs": [
    {
     "data": {
      "image/png": "[encoded data removed]",
      "text/plain": [
       "<matplotlib.figure.Figure at 0x1172af510>"
      ]
     },
     "metadata": {},
     "output_type": "display_data"
    }
   ],
   "source": [
    "tonic_dist = PitchDistribution.from_hz_pitch(tonic_array, kernel_width=0, \n",
    "                                             ref_freq=220.0, norm_type=None)\n",
    "tonic_dist.to_pcd()\n",
    "tonic_dist.cent_to_hz()\n",
    "tonic_dist.bar()\n",
    "plt.axis('tight')\n",
    "plt.show()"
   ]
  }
 ],
 "metadata": {
  "kernelspec": {
   "display_name": "Python 2",
   "language": "python",
   "name": "python2"
  },
  "language_info": {
   "codemirror_mode": {
    "name": "ipython",
    "version": 2
   },
   "file_extension": ".py",
   "mimetype": "text/x-python",
   "name": "python",
   "nbconvert_exporter": "python",
   "pygments_lexer": "ipython2",
   "version": "2.7.12"
  }
 },
 "nbformat": 4,
 "nbformat_minor": 1
}
